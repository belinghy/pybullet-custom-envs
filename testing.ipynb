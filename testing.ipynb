{
 "cells": [
  {
   "cell_type": "code",
   "execution_count": 1,
   "metadata": {
    "collapsed": true
   },
   "outputs": [],
   "source": [
    "import torch\n",
    "import torch.nn as nn\n",
    "import torch.nn.functional as F"
   ]
  },
  {
   "cell_type": "code",
   "execution_count": 2,
   "metadata": {
    "collapsed": true
   },
   "outputs": [],
   "source": [
    "class Test(nn.Module):\n",
    "    def __init__(self):\n",
    "        super(Test, self).__init__()\n",
    "        self.h1 = nn.Linear(5,5)\n",
    "        self.h2 = nn.Linear(5,1)\n",
    "    \n",
    "    def forward(self, x):\n",
    "        x = F.relu(self.h1(x))\n",
    "        return self.h2(x)"
   ]
  },
  {
   "cell_type": "code",
   "execution_count": 65,
   "metadata": {
    "collapsed": true
   },
   "outputs": [],
   "source": [
    "mod1 = Test()\n",
    "mod2 = Test()"
   ]
  },
  {
   "cell_type": "code",
   "execution_count": 66,
   "metadata": {},
   "outputs": [
    {
     "name": "stdout",
     "output_type": "stream",
     "text": [
      "tensor([-0.0240, -0.4443,  0.2072, -0.0605,  0.2674])\n",
      "tensor([ 0.3853, -0.1554, -0.0690,  0.0083,  0.2623])\n"
     ]
    }
   ],
   "source": [
    "m1 = mod1.state_dict()\n",
    "m2 = mod2.state_dict()\n",
    "print(m1['h1.bias'])\n",
    "print(m2['h1.bias'])"
   ]
  },
  {
   "cell_type": "code",
   "execution_count": 67,
   "metadata": {},
   "outputs": [
    {
     "name": "stdout",
     "output_type": "stream",
     "text": [
      "tensor([ 0.1609, -0.2682, -0.2873,  0.2245,  0.3853])\n"
     ]
    }
   ],
   "source": [
    "mod3 = Test()\n",
    "print(mod3.state_dict()['h1.bias'])"
   ]
  },
  {
   "cell_type": "code",
   "execution_count": 68,
   "metadata": {
    "collapsed": true
   },
   "outputs": [],
   "source": [
    "for name, param in mod3.named_parameters():\n",
    "    param.data = m1[name].data.clone()"
   ]
  },
  {
   "cell_type": "code",
   "execution_count": 69,
   "metadata": {},
   "outputs": [
    {
     "name": "stdout",
     "output_type": "stream",
     "text": [
      "tensor([-0.0240, -0.4443,  0.2072, -0.0605,  0.2674])\n"
     ]
    }
   ],
   "source": [
    "print(mod3.state_dict()['h1.bias'])"
   ]
  },
  {
   "cell_type": "code",
   "execution_count": 70,
   "metadata": {},
   "outputs": [
    {
     "data": {
      "text/plain": [
       "tensor([ 1.,  1.,  1.,  1.,  1.])"
      ]
     },
     "execution_count": 70,
     "metadata": {},
     "output_type": "execute_result"
    }
   ],
   "source": [
    "m1['h1.bias'].data.fill_(1)"
   ]
  },
  {
   "cell_type": "code",
   "execution_count": 71,
   "metadata": {},
   "outputs": [
    {
     "name": "stdout",
     "output_type": "stream",
     "text": [
      "tensor([ 1.,  1.,  1.,  1.,  1.])\n",
      "tensor([-0.0240, -0.4443,  0.2072, -0.0605,  0.2674])\n"
     ]
    }
   ],
   "source": [
    "print(m1['h1.bias'])\n",
    "print(mod3.state_dict()['h1.bias'])"
   ]
  },
  {
   "cell_type": "code",
   "execution_count": 73,
   "metadata": {},
   "outputs": [
    {
     "name": "stdout",
     "output_type": "stream",
     "text": [
      "tensor([ 0.3814])\n"
     ]
    }
   ],
   "source": [
    "x = torch.Tensor([1, 2, 3, 4, 5])\n",
    "out = mod3(x)\n",
    "print(out)\n",
    "out.backward()"
   ]
  },
  {
   "cell_type": "code",
   "execution_count": 78,
   "metadata": {},
   "outputs": [
    {
     "name": "stdout",
     "output_type": "stream",
     "text": [
      "h1.weight tensor([[-0.0973, -0.1946, -0.2920, -0.3893, -0.4866],\n",
      "        [ 0.0000,  0.0000,  0.0000,  0.0000,  0.0000],\n",
      "        [ 0.0000,  0.0000,  0.0000,  0.0000,  0.0000],\n",
      "        [ 0.0564,  0.1128,  0.1692,  0.2256,  0.2820],\n",
      "        [ 0.0000,  0.0000,  0.0000,  0.0000,  0.0000]])\n",
      "h1.bias tensor(1.00000e-02 *\n",
      "       [-9.7323,  0.0000,  0.0000,  5.6394,  0.0000])\n",
      "h2.weight tensor([[ 0.0439,  0.0000,  0.0000,  0.7734,  0.0000]])\n",
      "h2.bias tensor([ 1.])\n"
     ]
    }
   ],
   "source": [
    "for name, param in mod3.named_parameters():\n",
    "    print(name, param.grad)"
   ]
  },
  {
   "cell_type": "code",
   "execution_count": 80,
   "metadata": {},
   "outputs": [
    {
     "name": "stdout",
     "output_type": "stream",
     "text": [
      "tensor([ 0.4112])\n",
      "h1.weight tensor([[-0.0973, -0.1946, -0.2920, -0.3893, -0.4866],\n",
      "        [-0.0027, -0.0054, -0.0082, -0.0109, -0.0136],\n",
      "        [ 0.1111,  0.2221,  0.3332,  0.4443,  0.5553],\n",
      "        [ 0.0564,  0.1128,  0.1692,  0.2256,  0.2820],\n",
      "        [ 0.0000,  0.0000,  0.0000,  0.0000,  0.0000]])\n",
      "h1.bias tensor([-0.0973, -0.0027,  0.1111,  0.0564,  0.0000])\n",
      "h2.weight tensor([[ 1.0679,  0.5692,  0.6411,  1.8339,  0.0000]])\n",
      "h2.bias tensor([ 1.])\n"
     ]
    }
   ],
   "source": [
    "out = mod1(x)\n",
    "print(out)\n",
    "out.backward()\n",
    "for name, param in mod1.named_parameters():\n",
    "    print(name, param.grad)"
   ]
  },
  {
   "cell_type": "code",
   "execution_count": 4,
   "metadata": {
    "collapsed": true
   },
   "outputs": [],
   "source": [
    "x = torch.Tensor([[1,2,3],[4,5,6]])\n",
    "y = torch.Tensor([[7],[8]])"
   ]
  },
  {
   "cell_type": "code",
   "execution_count": 5,
   "metadata": {},
   "outputs": [
    {
     "name": "stdout",
     "output_type": "stream",
     "text": [
      "tensor([ 1.,  2.,  3.]) tensor([ 7.])\n",
      "tensor([ 4.,  5.,  6.]) tensor([ 8.])\n"
     ]
    }
   ],
   "source": [
    "for a, b in zip(x,y):\n",
    "    print(a, b)"
   ]
  },
  {
   "cell_type": "code",
   "execution_count": 92,
   "metadata": {},
   "outputs": [
    {
     "data": {
      "text/plain": [
       "tensor([[ 1.,  2.,  3.],\n",
       "        [ 1.,  2.,  3.],\n",
       "        [ 1.,  2.,  3.]])"
      ]
     },
     "execution_count": 92,
     "metadata": {},
     "output_type": "execute_result"
    }
   ],
   "source": [
    "torch.stack([x[0] for _ in range(3)], dim=0)"
   ]
  }
 ],
 "metadata": {
  "kernelspec": {
   "display_name": "Python 3",
   "language": "python",
   "name": "python3"
  },
  "language_info": {
   "codemirror_mode": {
    "name": "ipython",
    "version": 3
   },
   "file_extension": ".py",
   "mimetype": "text/x-python",
   "name": "python",
   "nbconvert_exporter": "python",
   "pygments_lexer": "ipython3",
   "version": "3.6.3"
  }
 },
 "nbformat": 4,
 "nbformat_minor": 2
}
