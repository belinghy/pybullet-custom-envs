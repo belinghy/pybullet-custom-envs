{
 "cells": [
  {
   "cell_type": "code",
   "execution_count": 1,
   "metadata": {
    "collapsed": true
   },
   "outputs": [],
   "source": [
    "import torch\n",
    "import torch.nn as nn\n",
    "import torch.nn.functional as F"
   ]
  },
  {
   "cell_type": "code",
   "execution_count": 2,
   "metadata": {
    "collapsed": true
   },
   "outputs": [],
   "source": [
    "class Test(nn.Module):\n",
    "    def __init__(self):\n",
    "        super(Test, self).__init__()\n",
    "        self.h1 = nn.Linear(5,5)\n",
    "        self.h2 = nn.Linear(5,1)\n",
    "    \n",
    "    def forward(self, x):\n",
    "        x = F.relu(self.h1(x))\n",
    "        return self.h2(x)"
   ]
  },
  {
   "cell_type": "code",
   "execution_count": 65,
   "metadata": {
    "collapsed": true
   },
   "outputs": [],
   "source": [
    "mod1 = Test()\n",
    "mod2 = Test()"
   ]
  },
  {
   "cell_type": "code",
   "execution_count": 33,
   "metadata": {},
   "outputs": [
    {
     "name": "stdout",
     "output_type": "stream",
     "text": [
      "tensor([[ 0.6000,  0.4000],\n",
      "        [ 0.3000,  0.7000],\n",
      "        [ 0.2000,  0.8000]])\n",
      "tensor([[-1.8242, -0.0850, -0.1801, -0.9286,  0.4447],\n",
      "        [-4.4703, -0.4751,  0.6109, -2.5957,  0.0156],\n",
      "        [-7.1164, -0.8652,  1.4019, -4.2628, -0.4134]])\n",
      "tensor([[ 1.1442,  1.5508,  0.9714,  0.5034, -1.1375],\n",
      "        [ 3.4194,  2.9158,  1.8290,  1.6890, -2.5635],\n",
      "        [ 5.6947,  4.2807,  2.6866,  2.8745, -3.9896]])\n",
      "tensor(9.6836)\n"
     ]
    }
   ],
   "source": [
    "l1 = nn.Linear(3, 5)\n",
    "l2 = nn.Linear(3, 5)\n",
    "\n",
    "x = torch.tensor([[0.6, 0.4],[0.3, 0.7],[0.2, 0.8]], requires_grad=True)\n",
    "y = torch.tensor([[1., 2., 3.], [4., 5., 6.], [7., 8., 9.]], requires_grad=True)\n",
    "\n",
    "z1 = l1(y)\n",
    "z2 = l2(y)\n",
    "print(x)\n",
    "print(z1)\n",
    "print(z2)\n",
    "\n",
    "first = torch.tensor([0])\n",
    "second = torch.tensor([1])\n",
    "z = z1*torch.index_select(x, 1, first) + z2*torch.index_select(x, 1, second)\n",
    "print(z.sum())\n",
    "z.sum().backward()"
   ]
  },
  {
   "cell_type": "code",
   "execution_count": 35,
   "metadata": {},
   "outputs": [
    {
     "name": "stdout",
     "output_type": "stream",
     "text": [
      "tensor([[ -2.5733,   3.0324],\n",
      "        [ -6.9146,   7.2896],\n",
      "        [-11.2559,  11.5469]])\n",
      "None\n"
     ]
    }
   ],
   "source": [
    "print(x.grad)\n",
    "print(first.grad)"
   ]
  }
 ],
 "metadata": {
  "kernelspec": {
   "display_name": "Python 3",
   "language": "python",
   "name": "python3"
  },
  "language_info": {
   "codemirror_mode": {
    "name": "ipython",
    "version": 3
   },
   "file_extension": ".py",
   "mimetype": "text/x-python",
   "name": "python",
   "nbconvert_exporter": "python",
   "pygments_lexer": "ipython3",
   "version": "3.6.3"
  }
 },
 "nbformat": 4,
 "nbformat_minor": 2
}
