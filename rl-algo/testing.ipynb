{
 "cells": [
  {
   "cell_type": "code",
   "execution_count": 1,
   "metadata": {
    "collapsed": true
   },
   "outputs": [],
   "source": [
    "import torch\n",
    "import torch.nn as nn\n",
    "import torch.nn.functional as F"
   ]
  },
  {
   "cell_type": "code",
   "execution_count": 2,
   "metadata": {
    "collapsed": true
   },
   "outputs": [],
   "source": [
    "class Test(nn.Module):\n",
    "    def __init__(self):\n",
    "        super(Test, self).__init__()\n",
    "        self.h1 = nn.Linear(5,5)\n",
    "        self.h2 = nn.Linear(5,1)\n",
    "    \n",
    "    def forward(self, x):\n",
    "        x = F.relu(self.h1(x))\n",
    "        return self.h2(x)"
   ]
  },
  {
   "cell_type": "code",
   "execution_count": 65,
   "metadata": {
    "collapsed": true
   },
   "outputs": [],
   "source": [
    "mod1 = Test()\n",
    "mod2 = Test()"
   ]
  },
  {
   "cell_type": "code",
   "execution_count": 3,
   "metadata": {},
   "outputs": [
    {
     "name": "stdout",
     "output_type": "stream",
     "text": [
      "tensor([[ 0.6000,  0.4000],\n",
      "        [ 0.3000,  0.7000],\n",
      "        [ 0.2000,  0.8000]])\n",
      "tensor([[-2.0167, -0.5384,  0.0043,  0.4240, -1.9677],\n",
      "        [-3.4131, -0.9322, -1.0302,  2.4787, -2.9286],\n",
      "        [-4.8095, -1.3259, -2.0647,  4.5334, -3.8895]])\n",
      "tensor([[ 0.8857, -1.1850, -2.3944,  0.1306, -0.7181],\n",
      "        [ 0.6081, -2.2359, -5.9999, -0.1207, -1.5946],\n",
      "        [ 0.3305, -3.2869, -9.6055, -0.3721, -2.4711]])\n",
      "tensor(-25.8922)\n"
     ]
    }
   ],
   "source": [
    "l1 = nn.Linear(3, 5)\n",
    "l2 = nn.Linear(3, 5)\n",
    "\n",
    "x = torch.tensor([[0.6, 0.4],[0.3, 0.7],[0.2, 0.8]], requires_grad=True)\n",
    "y = torch.tensor([[1., 2., 3.], [4., 5., 6.], [7., 8., 9.]], requires_grad=True)\n",
    "\n",
    "z1 = l1(y)\n",
    "z2 = l2(y)\n",
    "print(x)\n",
    "print(z1)\n",
    "print(z2)\n",
    "\n",
    "first = torch.tensor([0])\n",
    "second = torch.tensor([1])\n",
    "z = z1*torch.index_select(x, 1, first) + z2*torch.index_select(x, 1, second)\n",
    "print(z.sum())\n",
    "z.sum().backward()"
   ]
  },
  {
   "cell_type": "code",
   "execution_count": 10,
   "metadata": {},
   "outputs": [
    {
     "name": "stdout",
     "output_type": "stream",
     "text": [
      "True\n",
      "tensor([[ 0.9585,  0.2135,  0.6790],\n",
      "        [ 0.8157,  0.5842,  0.4499],\n",
      "        [ 0.0863,  0.4487,  0.6572],\n",
      "        [ 0.5162,  0.6354,  0.2955],\n",
      "        [ 0.0762,  0.8673,  0.3155]])\n",
      "tensor([[ 0.2038,  0.6811,  0.1129],\n",
      "        [ 0.7391,  0.1135,  0.0312],\n",
      "        [ 0.3935,  0.6664,  0.0331],\n",
      "        [ 0.9617,  0.5869,  0.8342],\n",
      "        [ 0.7716,  0.6710,  0.8751]])\n",
      "True\n"
     ]
    }
   ],
   "source": [
    "print(l1.weight.requires_grad)\n",
    "print(l1.weight.data)\n",
    "l1.weight.data = torch.rand(5,3)\n",
    "print(l1.weight.data)\n",
    "print(l1.weight.requires_grad)\n"
   ]
  }
 ],
 "metadata": {
  "kernelspec": {
   "display_name": "Python 3",
   "language": "python",
   "name": "python3"
  },
  "language_info": {
   "codemirror_mode": {
    "name": "ipython",
    "version": 3
   },
   "file_extension": ".py",
   "mimetype": "text/x-python",
   "name": "python",
   "nbconvert_exporter": "python",
   "pygments_lexer": "ipython3",
   "version": "3.6.3"
  }
 },
 "nbformat": 4,
 "nbformat_minor": 2
}
